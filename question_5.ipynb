{
  "nbformat": 4,
  "nbformat_minor": 0,
  "metadata": {
    "colab": {
      "provenance": []
    },
    "kernelspec": {
      "name": "ir",
      "display_name": "R"
    },
    "language_info": {
      "name": "R"
    }
  },
  "cells": [
    {
      "cell_type": "code",
      "source": [
        "# Please note, this code is written in R code in colab, so it is saved as .ipynb\n",
        "# You can run it in colab under runtime type R or convert it into .Rmd before runing it, thanks!\n",
        "\n",
        "library(stats)\n",
        "library(ggplot2)\n",
        "library(boot)"
      ],
      "metadata": {
        "id": "Lk8LviGCI3kl"
      },
      "execution_count": null,
      "outputs": []
    },
    {
      "cell_type": "code",
      "source": [
        "# Read the dataset into R\n",
        "data <- read.csv(\"Musk_2.csv\")\n",
        "\n",
        "# Extract features (X)\n",
        "X_obs <- data[, !(names(data) %in% c(\"class\"))]  # Exclude the column \"Diagnosis\"\n",
        "\n",
        "# Function to perform Z-score normalization\n",
        "z_score_normalization <- function(x) {\n",
        "  return((x - mean(x)) / sd(x))\n",
        "}\n",
        "\n",
        "# Apply Z-score normalization to each column of X\n",
        "X_obs <- apply(X_obs, 2, z_score_normalization)\n",
        "\n",
        "# Extract target variable (y)\n",
        "y_obs <- data$class\n",
        "\n",
        "# Display the dimensions of X and y\n",
        "# Check datatype and dimensions\n",
        "cat(\"Datatype of X:\", class(X_obs), \"\\n\")\n",
        "cat(\"Dimensions of X:\", dim(X_obs), \"\\n\")\n",
        "cat(\"Datatype of y:\", class(y_obs), \"\\n\")\n",
        "cat(\"Length of y:\", length(y_obs), \"\\n\")"
      ],
      "metadata": {
        "colab": {
          "base_uri": "https://localhost:8080/"
        },
        "id": "s2ALysIpFaEK",
        "outputId": "999a1fe7-46c8-4f6e-8df7-0906128dbfad"
      },
      "execution_count": null,
      "outputs": [
        {
          "output_type": "stream",
          "name": "stdout",
          "text": [
            "Datatype of X: matrix array \n",
            "Dimensions of X: 476 166 \n",
            "Datatype of y: integer \n",
            "Length of y: 476 \n"
          ]
        }
      ]
    },
    {
      "cell_type": "code",
      "source": [
        "X_obs <- as.matrix(X_obs)\n",
        "X_obs <- X_obs[, 1:50]\n",
        "y_obs <- as.array(y_obs)\n",
        "y_obs <- array(y_obs, dim = c(dim(y_obs), 1))\n",
        "\n",
        "cat(\"Datatype of X:\", class(X_obs ), \"\\n\")\n",
        "cat(\"Dimensions of X:\", dim(X_obs ), \"\\n\")\n",
        "cat(\"Datatype of y:\", class(y_obs ), \"\\n\")\n",
        "cat(\"Length of y:\", length(y_obs ), \"\\n\")"
      ],
      "metadata": {
        "colab": {
          "base_uri": "https://localhost:8080/"
        },
        "id": "IMLLCvIPtlbM",
        "outputId": "3ea181a2-07af-41c1-98a1-580fc6b433ef"
      },
      "execution_count": null,
      "outputs": [
        {
          "output_type": "stream",
          "name": "stdout",
          "text": [
            "Datatype of X: matrix array \n",
            "Dimensions of X: 476 50 \n",
            "Datatype of y: matrix array \n",
            "Length of y: 476 \n"
          ]
        }
      ]
    },
    {
      "cell_type": "code",
      "source": [
        "# Function to calculate adjusted p-value\n",
        "calculate_p_value <- function(X_obs, y_obs, sim) {\n",
        "\n",
        "  logit_model_observed <- glm(y_obs~ ., data = as.data.frame(X_obs),\n",
        "                     family = binomial(link = \"logit\"),\n",
        "                     control = list(maxit = 1000))\n",
        "\n",
        "  beta1_coef_obs <- coef(logit_model_observed)[\"f1\"]\n",
        "  summary_logit <- summary(logit_model_observed)\n",
        "  p_values_beta1_before <- summary_logit$coefficients[\"f1\", \"Pr(>|z|)\"]\n",
        "\n",
        "  beta1_coef <- numeric(sim)\n",
        "  X <- array(0, dim = c(n_max, p_max, sim))\n",
        "  Y <- array(0, dim = c(n_max, sim))\n",
        "\n",
        "  for (s in 1:sim) {\n",
        "    X[, , s] <- X_obs\n",
        "    X[, 15, s] <- sample(X_obs[,15], replace = TRUE)\n",
        "    Y[, s] <- y_obs[, 1]\n",
        "    #Y[, s] <- rbinom(n_max, 1, 0.5)\n",
        "\n",
        "    logit_model <- glm(Y[, s] ~ ., data = as.data.frame(X[,,s]),\n",
        "                     family = binomial(link = \"logit\"),\n",
        "                     control = list(maxit = 1000))\n",
        "\n",
        "    beta1_coef[s] <- coef(logit_model)[\"V1\"]\n",
        "  }\n",
        "\n",
        "  p_values_beta1 <- (sum(abs(beta1_coef) >= abs(beta1_coef_obs)) + 1) / (sim + 1)\n",
        "\n",
        "  return(list(p_values_before = p_values_beta1_before, p_values_after = p_values_beta1))\n",
        "}\n",
        "\n",
        "# Function to generate a bootstrap sample\n",
        "generate_bootstrap_sample <- function(X, Y) {\n",
        "  n <- nrow(X)  # Get the number of observations\n",
        "  indices <- sample.int(n, replace = TRUE)\n",
        "  return(list(X_boot = X[indices, , drop = FALSE], Y_boot = Y[indices, , drop = FALSE]))\n",
        "}"
      ],
      "metadata": {
        "id": "Zm5RVLkxJ0CI"
      },
      "execution_count": null,
      "outputs": []
    },
    {
      "cell_type": "code",
      "source": [
        "# Use boostrap to generate more X\n",
        "shape_X <- dim(X_obs)\n",
        "n_max <- shape_X[1]\n",
        "p_max <- shape_X[2]\n",
        "sim <- 30\n",
        "sim_all <- 200\n",
        "\n",
        "# Repeat the process\n",
        "p_values_before_list <- vector(\"numeric\", length = sim_all)\n",
        "p_values_after_list <- vector(\"numeric\", length = sim_all)\n",
        "\n",
        "for (i in 1:sim_all) {\n",
        "  set.seed(i)  # Setting seed for reproducibility\n",
        "  boot_result <- generate_bootstrap_sample(X_obs, y_obs)\n",
        "  X_obs_boot <- boot_result$X_boot\n",
        "  y_obs_boot <- boot_result$Y_boot\n",
        "\n",
        "  p_values <- calculate_p_value(X_obs_boot, y_obs_boot, sim_all)\n",
        "\n",
        "  p_values_before_list[i] <- p_values$p_values_before\n",
        "  p_values_after_list[i] <- p_values$p_values_after\n",
        "}\n",
        "\n",
        "# Plot histogram for p_values_before_list\n",
        "hist(p_values_before_list, main = \"P-value for Musk Dataset\",\n",
        "     xlab = \"p-values\", ylab = \"Counts\", col = \"blue\")\n",
        "\n",
        "# Plot histogram for p_values_after_list\n",
        "hist(p_values_after_list, main = \"P-value for Musk Dataset with Conditional Randomization\",\n",
        "     xlab = \"p-values\", ylab = \"Counts\", col = \"red\")"
      ],
      "metadata": {
        "id": "NV1jddtsulqz"
      },
      "execution_count": null,
      "outputs": []
    }
  ]
}